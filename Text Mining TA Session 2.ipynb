{
 "cells": [
  {
   "cell_type": "markdown",
   "metadata": {},
   "source": [
    "# Homework 1"
   ]
  },
  {
   "cell_type": "code",
   "execution_count": 1,
   "metadata": {
    "collapsed": false
   },
   "outputs": [
    {
     "name": "stdout",
     "output_type": "stream",
     "text": [
      "*** Introductory Examples for the NLTK Book ***\n",
      "Loading text1, ..., text9 and sent1, ..., sent9\n",
      "Type the name of the text or sentence to view it.\n",
      "Type: 'texts()' or 'sents()' to list the materials.\n",
      "text1: Moby Dick by Herman Melville 1851\n",
      "text2: Sense and Sensibility by Jane Austen 1811\n",
      "text3: The Book of Genesis\n",
      "text4: Inaugural Address Corpus\n",
      "text5: Chat Corpus\n",
      "text6: Monty Python and the Holy Grail\n",
      "text7: Wall Street Journal\n",
      "text8: Personals Corpus\n",
      "text9: The Man Who Was Thursday by G . K . Chesterton 1908\n"
     ]
    }
   ],
   "source": [
    "import nltk\n",
    "from nltk.book import *"
   ]
  },
  {
   "cell_type": "code",
   "execution_count": 2,
   "metadata": {
    "collapsed": false
   },
   "outputs": [
    {
     "data": {
      "text/plain": [
       "[629,\n",
       " 642,\n",
       " 1432,\n",
       " 1650,\n",
       " 13335,\n",
       " 13381,\n",
       " 16313,\n",
       " 27014,\n",
       " 49340,\n",
       " 52092,\n",
       " 60857,\n",
       " 60862,\n",
       " 64721,\n",
       " 64736]"
      ]
     },
     "execution_count": 2,
     "metadata": {},
     "output_type": "execute_result"
    }
   ],
   "source": [
    "# hw: Ch1: 17, 19, 20, 21, 23, 27\n",
    "\n",
    "# 17\n",
    "# Use text9.index() to find the index of the word sunset. \n",
    "# You'll need to insert this word as an argument between the parentheses. \n",
    "# By a process of trial and error, find the slice for the complete sentence \n",
    "# that contains this word.\n",
    "\n",
    "\n",
    "text9.index('sunset')\n",
    "\n",
    "text9[613:644]\n",
    "\" \".join(text9[613:644])\n",
    "\n",
    "def all_index(text, word):\n",
    "    l = [i for i, item in enumerate(text) if item == word]\n",
    "    return l\n",
    "\n",
    "all_index(text9, 'sunset')"
   ]
  },
  {
   "cell_type": "code",
   "execution_count": null,
   "metadata": {
    "collapsed": false,
    "scrolled": true
   },
   "outputs": [],
   "source": [
    "# 19\n",
    "# What is the difference between the following two lines? \n",
    "  # change everything to lower case then convert it to a set\n",
    "    # Convert to a set then set everything lower case \n",
    "    \n",
    "# Which one will give a larger value? \n",
    "  # the second one because if the words aren't set to lower case at first, the set will count\n",
    "    # them as different words\n",
    "    \n",
    "# Will this be the case for other texts?\n",
    " # Yes\n",
    "\n",
    "sorted(set(w.lower() for w in text1))\n",
    "sorted(w.lower() for w in set(text1))"
   ]
  },
  {
   "cell_type": "code",
   "execution_count": null,
   "metadata": {
    "collapsed": false
   },
   "outputs": [],
   "source": [
    "# 20\n",
    "# What is the difference between the following two tests: w.isupper() and not w.islower()?\n",
    "\n",
    "test0 = \"abc\"\n",
    "test1 = \"Abc\"\n",
    "test2 = \"aBc\"\n",
    "test3 = \"ABC\"\n",
    "test4 = \"\"\n",
    "test5 = \" \"\n",
    "test6 = \",\"\n",
    "\n",
    "l = [test0, test1, test2, test3, test4, test5, test6]\n",
    "\n",
    "for test_word in l:\n",
    "    print((test_word.isupper(), not test_word.islower()))\n"
   ]
  },
  {
   "cell_type": "code",
   "execution_count": null,
   "metadata": {
    "collapsed": false
   },
   "outputs": [],
   "source": [
    "# 21 Write the slice expression that extracts the last two words of text2.\n",
    "\n",
    "text2[-2:]"
   ]
  },
  {
   "cell_type": "code",
   "execution_count": null,
   "metadata": {
    "collapsed": true
   },
   "outputs": [],
   "source": [
    "# 23 Review the discussion of looping with conditions in 4. \n",
    "# Use a combination of for and if statements to loop over the words \n",
    "# of the movie script for Monty Python and the Holy Grail (text6) \n",
    "# and print all the uppercase words, one per line.\n",
    "\n",
    "for w in text6:\n",
    "    if (w.isupper()):\n",
    "        print(w)"
   ]
  },
  {
   "cell_type": "code",
   "execution_count": null,
   "metadata": {
    "collapsed": false
   },
   "outputs": [],
   "source": [
    "# 27\n",
    "# Define a function called vocab_size(text) that has a single parameter for the text, \n",
    "# and which returns the vocabulary size of the text.\n",
    "\n",
    "def vocab_size(text):\n",
    "    return len(set(w.lower() for w in text if w.isalpha()))\n",
    "\n",
    "vocab_size(text1)\n",
    "\n"
   ]
  },
  {
   "cell_type": "markdown",
   "metadata": {},
   "source": [
    "# Functions in python\n"
   ]
  },
  {
   "cell_type": "code",
   "execution_count": null,
   "metadata": {
    "collapsed": true
   },
   "outputs": [],
   "source": [
    "'''def functionname( parameters ):\n",
    "\n",
    "   \"function_documentation\"\n",
    "   \n",
    "   function_suite\n",
    "   \n",
    "   return [expression]'''\n"
   ]
  },
  {
   "cell_type": "markdown",
   "metadata": {},
   "source": [
    "# Tuple vs list () and [] \n"
   ]
  },
  {
   "cell_type": "markdown",
   "metadata": {},
   "source": [
    "## Basic python data types you need to know...\n",
    "   * int: integer. 1,2,3...\n",
    "   * float: decimal numbers, 1.23, 2,34\n",
    "   * string: words, signified by \" \" or  ' ', immutable! (ps: snake_case_convention)\n",
    "## Compound data types we encountered so far...\n",
    "   * set: similar to the math concept: de-duplicated\n",
    " "
   ]
  },
  {
   "cell_type": "markdown",
   "metadata": {},
   "source": [
    "## list: [] \n",
    "   - contains items separated by commas and enclosed within square brackets []. \n",
    "   - All the items belonging to a list can be of different data type.\n",
    "   - The values stored in a list can be accessed using the slice operator [ ] and [:] \n",
    "\n",
    "**Repeat important things three times**\n",
    "\n",
    "       - Indexes starting at 0 in the beginning of the list and working their way to end -1. \n",
    "       - Indexes starting at 0 in the beginning of the list and working their way to end -1. \n",
    "       - Indexes starting at 0 in the beginning of the list and working their way to end -1. \n",
    "        "
   ]
  },
  {
   "cell_type": "markdown",
   "metadata": {},
   "source": [
    " - The plus (+) sign is the list concatenation operator, and the asterisk (*) is the repetition operator."
   ]
  },
  {
   "cell_type": "code",
   "execution_count": 2,
   "metadata": {
    "collapsed": false
   },
   "outputs": [
    {
     "name": "stdout",
     "output_type": "stream",
     "text": [
      "['hello', 'lingwei', 1993, 'hello', 'lingwei', 1993]\n"
     ]
    }
   ],
   "source": [
    "l = [\"hello\", \"lingwei\",1993]\n",
    "print(l*2)"
   ]
  },
  {
   "cell_type": "markdown",
   "metadata": {},
   "source": [
    "* what if I want to multiply everything by 2?"
   ]
  },
  {
   "cell_type": "code",
   "execution_count": 4,
   "metadata": {
    "collapsed": false
   },
   "outputs": [
    {
     "name": "stdout",
     "output_type": "stream",
     "text": [
      "[1, 2, 3, 4, 5, 1, 2, 3, 4, 5]\n"
     ]
    }
   ],
   "source": [
    "l = [1,2,3,4,5]\n",
    "print(l*2)"
   ]
  },
  {
   "cell_type": "code",
   "execution_count": 6,
   "metadata": {
    "collapsed": false
   },
   "outputs": [
    {
     "name": "stdout",
     "output_type": "stream",
     "text": [
      "[2, 4, 6, 8, 10]\n"
     ]
    }
   ],
   "source": [
    "l_v2 = [x*2 for x in l]\n",
    "print(l_v2)"
   ]
  },
  {
   "cell_type": "markdown",
   "metadata": {},
   "source": [
    "## Tuples ( )\n",
    " - A tuple is another sequence data type that is similar to the list. \n",
    " - A tuple consists of a number of values separated by commas. \n",
    " - Unlike lists, however, tuples are enclosed within parentheses.\n",
    " - Tuples can be thought of as read-only lists. \n",
    " - CANNOT UPDATE A TUPLE\n",
    " "
   ]
  },
  {
   "cell_type": "code",
   "execution_count": 9,
   "metadata": {
    "collapsed": false
   },
   "outputs": [
    {
     "name": "stdout",
     "output_type": "stream",
     "text": [
      "lingwei\n"
     ]
    }
   ],
   "source": [
    "t = (\"hello\",\"lingwei\", 1993) \n",
    "print(t[1])\n"
   ]
  },
  {
   "cell_type": "code",
   "execution_count": 10,
   "metadata": {
    "collapsed": false
   },
   "outputs": [
    {
     "ename": "TypeError",
     "evalue": "'tuple' object does not support item assignment",
     "output_type": "error",
     "traceback": [
      "\u001b[0;31m---------------------------------------------------------------------------\u001b[0m",
      "\u001b[0;31mTypeError\u001b[0m                                 Traceback (most recent call last)",
      "\u001b[0;32m<ipython-input-10-4ae908b0b5ab>\u001b[0m in \u001b[0;36m<module>\u001b[0;34m()\u001b[0m\n\u001b[0;32m----> 1\u001b[0;31m \u001b[0mt\u001b[0m\u001b[0;34m[\u001b[0m\u001b[0;36m1\u001b[0m\u001b[0;34m]\u001b[0m \u001b[0;34m=\u001b[0m \u001b[0;34m\"someone else\"\u001b[0m\u001b[0;34m\u001b[0m\u001b[0m\n\u001b[0m",
      "\u001b[0;31mTypeError\u001b[0m: 'tuple' object does not support item assignment"
     ]
    }
   ],
   "source": [
    "t[1] = \"someone else\""
   ]
  },
  {
   "cell_type": "markdown",
   "metadata": {},
   "source": [
    "# slicing again: https://docs.python.org/2/tutorial/introduction.html\n"
   ]
  },
  {
   "cell_type": "code",
   "execution_count": 11,
   "metadata": {
    "collapsed": false
   },
   "outputs": [
    {
     "name": "stdout",
     "output_type": "stream",
     "text": [
      "P\n",
      "n\n"
     ]
    }
   ],
   "source": [
    " word = 'Python'\n",
    "print(word[0])  # character in position 0\n",
    "print(word[5])  # character in position 5\n"
   ]
  },
  {
   "cell_type": "code",
   "execution_count": 12,
   "metadata": {
    "collapsed": false,
    "scrolled": true
   },
   "outputs": [
    {
     "name": "stdout",
     "output_type": "stream",
     "text": [
      "n\n",
      "o\n",
      "P\n"
     ]
    }
   ],
   "source": [
    "print(word[-1])  # last character\n",
    "print(word[-2])  # second-last character\n",
    "print(word[-6])\n"
   ]
  },
  {
   "cell_type": "code",
   "execution_count": null,
   "metadata": {
    "collapsed": true
   },
   "outputs": [],
   "source": [
    "print(word[0:2])  # characters from position 0 (included) to 2 (excluded)\n",
    "print(word[2:5])  # characters from position 2 (included) to 5 (excluded)\n"
   ]
  },
  {
   "cell_type": "markdown",
   "metadata": {},
   "source": [
    "# list comprehension PRACTICES"
   ]
  },
  {
   "cell_type": "code",
   "execution_count": 19,
   "metadata": {
    "collapsed": false
   },
   "outputs": [
    {
     "name": "stdout",
     "output_type": "stream",
     "text": [
      "[1, 81, 0, 16]\n"
     ]
    }
   ],
   "source": [
    "# new_list = [doSomething(item) for item in a_list if condition(item)]\n",
    "\n",
    "a_list = [1, '4', 9, 'a', 0, 4]\n",
    "\n",
    "squared_ints = [ e**2 for e in a_list if type(e) == int ]\n",
    "\n",
    "print(squared_ints)"
   ]
  },
  {
   "cell_type": "markdown",
   "metadata": {},
   "source": [
    "# Resources\n",
    "- https://www.codecademy.com/\n",
    "- https://en.wikibooks.org/wiki/Non-Programmer's_Tutorial_for_Python_3\n",
    "- http://readwrite.com/2011/03/25/python-is-an-increasingly-popu\n",
    "- NLTK chapter 4\n",
    "- TA sessions...\n",
    "\n"
   ]
  }
 ],
 "metadata": {
  "kernelspec": {
   "display_name": "Python 3",
   "language": "python",
   "name": "python3"
  },
  "language_info": {
   "codemirror_mode": {
    "name": "ipython",
    "version": 3
   },
   "file_extension": ".py",
   "mimetype": "text/x-python",
   "name": "python",
   "nbconvert_exporter": "python",
   "pygments_lexer": "ipython3",
   "version": "3.5.1"
  }
 },
 "nbformat": 4,
 "nbformat_minor": 0
}
